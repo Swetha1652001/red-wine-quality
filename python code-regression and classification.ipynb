{
 "cells": [
  {
   "cell_type": "markdown",
   "id": "1dd7339c",
   "metadata": {},
   "source": [
    "Importing the dataset from Kaggle"
   ]
  },
  {
   "cell_type": "code",
   "execution_count": null,
   "metadata": {},
   "outputs": [],
   "source": [
    "import pandas as pd\n",
    "data=pd.read_csv(\"C:\\\\Users\\\\swetha.b\\\\Downloads\\\\winequality-red.csv\")\n",
    "data"
   ]
  },
  {
   "cell_type": "markdown",
   "id": "563bbac2",
   "metadata": {},
   "source": [
    "We can experiment this data with regression modelling first!"
   ]
  },
  {
   "cell_type": "code",
   "execution_count": null,
   "id": "a338a928",
   "metadata": {},
   "outputs": [],
   "source": [
    "data.head(7)"
   ]
  },
  {
   "cell_type": "markdown",
   "id": "ff3db4f8",
   "metadata": {},
   "source": [
    "In the above data, quality variable is the output variable (independent variable) which is dependent on previous variable in the table."
   ]
  },
  {
   "cell_type": "markdown",
   "id": "db51bf5e",
   "metadata": {},
   "source": [
    "Multiple linear regression model\n",
    "\n",
    "11- independent variables\n",
    "1-dependent variable\n",
    "\n",
    "error_i=y_i-ycap_i\n",
    "\n",
    "Our aim is to minimize this error\n",
    " "
   ]
  },
  {
   "cell_type": "code",
   "execution_count": null,
   "id": "374546e5",
   "metadata": {},
   "outputs": [],
   "source": [
    "import numpy as np\n",
    "from sklearn.model_selection import train_test_split\n",
    "from sklearn.linear_model import LinearRegression\n",
    "from sklearn.metrics import r2_score\n",
    "import seaborn as sns"
   ]
  },
  {
   "cell_type": "code",
   "execution_count": null,
   "id": "46781445",
   "metadata": {},
   "outputs": [],
   "source": [
    "shape=data.shape\n",
    "print(\"Dataset has {} rows and {} columns\".format(shape[0],shape[1]))"
   ]
  },
  {
   "cell_type": "code",
   "execution_count": null,
   "id": "ab2cb099",
   "metadata": {},
   "outputs": [],
   "source": [
    "data.columns"
   ]
  },
  {
   "cell_type": "code",
   "execution_count": null,
   "id": "2794e9d7",
   "metadata": {},
   "outputs": [],
   "source": [
    "data.describe()"
   ]
  },
  {
   "cell_type": "code",
   "execution_count": null,
   "id": "514a8a47",
   "metadata": {},
   "outputs": [],
   "source": [
    "#seperating dependent and independent variables\n",
    "#x= dependent variable\n",
    "#y=independent variable\n",
    "x=data.iloc[:,:11]\n",
    "y=data.iloc[:,11]\n"
   ]
  },
  {
   "cell_type": "code",
   "execution_count": null,
   "id": "a04fc836",
   "metadata": {},
   "outputs": [],
   "source": [
    "x.head(4)"
   ]
  },
  {
   "cell_type": "code",
   "execution_count": null,
   "id": "7b7c28f9",
   "metadata": {},
   "outputs": [],
   "source": [
    "y.head(4)"
   ]
  },
  {
   "cell_type": "code",
   "execution_count": null,
   "id": "f1bbad0e",
   "metadata": {},
   "outputs": [],
   "source": [
    "#train and test\n",
    "x_train,x_test,y_train,y_test=train_test_split(x,y,test_size=0.1,random_state=20)\n",
    "#shape\n",
    "print(\"x_train\",x_train.shape)\n",
    "print(\"y_train\",y_train.shape)\n",
    "print(\"x_test\",x_test.shape)\n",
    "print(\"y_test\",y_test.shape)\n"
   ]
  },
  {
   "cell_type": "code",
   "execution_count": null,
   "id": "0fef2f2f",
   "metadata": {},
   "outputs": [],
   "source": [
    "linreg=LinearRegression()\n",
    "linreg.fit(x_train,y_train)"
   ]
  },
  {
   "cell_type": "code",
   "execution_count": null,
   "id": "9a04d8ce",
   "metadata": {},
   "outputs": [],
   "source": [
    "y_pred=linreg.predict(x_test)\n",
    "y_pred"
   ]
  },
  {
   "cell_type": "code",
   "execution_count": null,
   "id": "e4c298ee",
   "metadata": {},
   "outputs": [],
   "source": [
    "#evaluate\n",
    "Acc=r2_score(y_test,y_pred)*100\n",
    "print(\"Accuracy of the model is %.2f\" %Acc)"
   ]
  },
  {
   "cell_type": "code",
   "execution_count": null,
   "id": "0f60ae2b",
   "metadata": {},
   "outputs": [],
   "source": [
    "import matplotlib.pyplot as plt\n",
    "plt.scatter(y_test,y_pred)\n",
    "plt.xlabel(\"actual\")\n",
    "plt.ylabel('predicted')\n"
   ]
  },
  {
   "cell_type": "code",
   "execution_count": null,
   "id": "4080f69a",
   "metadata": {},
   "outputs": [],
   "source": [
    "import seaborn as sns\n",
    "sns.regplot(x=y_test,y=y_pred,ci=None,color='red')"
   ]
  },
  {
   "cell_type": "code",
   "execution_count": null,
   "id": "66402538",
   "metadata": {},
   "outputs": [],
   "source": [
    "pred_diss=pd.DataFrame({'Actual value':y_test,'Predicted value':y_pred,'Difference':y_test-y_pred})\n",
    "pred_diss"
   ]
  },
  {
   "cell_type": "markdown",
   "id": "466fe844",
   "metadata": {},
   "source": [
    "What might be an interesting thing to do, is aside from using regression modelling, is to set an arbitrary cutoff for your dependent variable (wine quality) at e.g. 7 or higher getting classified as 'good/1' and the remainder as 'not good/0'.\n",
    "This allows you to practice with hyper parameter tuning on e.g. decision tree algorithms looking at the ROC curve and the AUC value.\n",
    "Without doing any kind of feature engineering or overfitting you should be able to get an AUC of .88 (without even using random forest algorithm)\n",
    "\n",
    "KNIME is a great tool (GUI) that can be used for this.\n",
    "\n",
    "1 - File Reader (for csv) to linear correlation node and to interactive histogram for basic EDA.\n",
    "\n",
    "2- File Reader to 'Rule Engine Node' to turn the 10 point scale to dichtome variable (good wine and rest), the code to put in the rule engine is something like this:\n",
    "\n",
    "$quality$ > 6.5 => \"good\"\n",
    "TRUE => \"bad\"\n",
    "\n",
    "3- Rule Engine Node output to input of Column Filter node to filter out your original 10point feature (this prevent leaking)\n",
    "\n",
    "4- Column Filter Node output to input of Partitioning Node (your standard train/tes split, e.g. 75%/25%, choose 'random' or 'stratified')\n",
    "\n",
    "5- Partitioning Node train data split output to input of Train data split to input Decision Tree Learner node and\n",
    "\n",
    "6- Partitioning Node test data split output to input Decision Tree predictor Node\n",
    "\n",
    "7- Decision Tree learner Node output to input Decision Tree Node input\n",
    "\n",
    "8- Decision Tree output to input ROC Node.. (here you can evaluate your model base on AUC value)\n"
   ]
  },
  {
   "cell_type": "code",
   "execution_count": null,
   "id": "bde69bda",
   "metadata": {},
   "outputs": [],
   "source": [
    "data.head(7)"
   ]
  },
  {
   "cell_type": "code",
   "execution_count": null,
   "id": "53871c9d",
   "metadata": {},
   "outputs": [],
   "source": [
    "data=pd.DataFrame(data)\n",
    "def cmp():\n",
    "    if data.quality>=7:\n",
    "        print(data['quality'].replace(1))\n",
    "    else:\n",
    "        print(data['quality'].replace(0))\n",
    "\n"
   ]
  },
  {
   "cell_type": "code",
   "execution_count": null,
   "id": "9b4509c8",
   "metadata": {},
   "outputs": [],
   "source": [
    "data.loc[data['quality']>=7,'quality']=1\n",
    "data.loc[data['quality']<7,'quality']=0"
   ]
  },
  {
   "cell_type": "code",
   "execution_count": null,
   "id": "100fb833",
   "metadata": {},
   "outputs": [],
   "source": [
    "data.head(8)"
   ]
  },
  {
   "cell_type": "code",
   "execution_count": null,
   "id": "8d06e1a7",
   "metadata": {},
   "outputs": [],
   "source": [
    "#train and test\n",
    "x_train,x_test,y_train,y_test=train_test_split(x,y,test_size=0.1,random_state=20)\n",
    "#shape\n",
    "print(\"x_train\",x_train.shape)\n",
    "print(\"y_train\",y_train.shape)\n",
    "print(\"x_test\",x_test.shape)\n",
    "print(\"y_test\",y_test.shape)"
   ]
  },
  {
   "cell_type": "code",
   "execution_count": null,
   "id": "9ebac05b",
   "metadata": {},
   "outputs": [],
   "source": [
    "from sklearn.preprocessing import StandardScaler\n",
    "st_x=StandardScaler()\n",
    "x_train=st_x.fit_transform(x_train)\n",
    "x_test=st_x.fit_transform(x_test)"
   ]
  },
  {
   "cell_type": "code",
   "execution_count": null,
   "id": "f563c9f0",
   "metadata": {},
   "outputs": [],
   "source": [
    "#fit decision tree\n",
    "from sklearn.tree import DecisionTreeClassifier\n",
    "classifier=DecisionTreeClassifier(criterion='entropy',random_state=0)\n",
    "classifier.fit(x_train,y_train)"
   ]
  },
  {
   "cell_type": "code",
   "execution_count": null,
   "id": "2a3d176b",
   "metadata": {},
   "outputs": [],
   "source": [
    "y_pred=classifier.predict(x_test)\n",
    "y_pred"
   ]
  },
  {
   "cell_type": "code",
   "execution_count": null,
   "id": "e6a72dbd",
   "metadata": {},
   "outputs": [],
   "source": [
    "pip install pandas_ml"
   ]
  },
  {
   "cell_type": "code",
   "execution_count": null,
   "id": "d05aaf93",
   "metadata": {},
   "outputs": [],
   "source": [
    "\n",
    "\n",
    "data=pd.DataFrame(data)\n",
    "cm=pd.crosstab(y_test,y_pred)\n",
    "sns.heatmap(cm, annot=True)\n",
    "plt.show()\n",
    "#cm.print_stats()"
   ]
  },
  {
   "cell_type": "code",
   "execution_count": null,
   "id": "cc116e58",
   "metadata": {},
   "outputs": [],
   "source": [
    "from sklearn import metrics\n",
    "cm=metrics.confusion_matrix(y_test,y_pred)\n",
    "cm_display = metrics.ConfusionMatrixDisplay(confusion_matrix =cm , display_labels = [False, True])\n",
    "\n",
    "cm_display.plot()\n",
    "plt.show()\n"
   ]
  },
  {
   "cell_type": "code",
   "execution_count": null,
   "id": "4b475e40",
   "metadata": {},
   "outputs": [],
   "source": [
    "acc=metrics.accuracy_score(y_test,y_pred)\n",
    "acc"
   ]
  },
  {
   "cell_type": "code",
   "execution_count": null,
   "id": "33705fcb",
   "metadata": {},
   "outputs": [],
   "source": [
    "Acc=r2_score(y_test,y_pred)*100\n",
    "print(\"Accuracy of the model is %.2f\" %Acc)"
   ]
  },
  {
   "cell_type": "code",
   "execution_count": null,
   "id": "e0d8bd7a",
   "metadata": {},
   "outputs": [],
   "source": []
  }
 ],
 "metadata": {
  "kernelspec": {
   "display_name": "Python 3",
   "language": "python",
   "name": "python3"
  },
  "language_info": {
   "codemirror_mode": {
    "name": "ipython",
    "version": 3
   },
   "file_extension": ".py",
   "mimetype": "text/x-python",
   "name": "python",
   "nbconvert_exporter": "python",
   "pygments_lexer": "ipython3",
   "version": "3.7.6 (default, Jan  8 2020, 16:21:45) [MSC v.1916 32 bit (Intel)]"
  },
  "vscode": {
   "interpreter": {
    "hash": "227699890a23553414c52f49ee3560b61db91ca69e5993124d56eccc00975361"
   }
  }
 },
 "nbformat": 4,
 "nbformat_minor": 5
}
